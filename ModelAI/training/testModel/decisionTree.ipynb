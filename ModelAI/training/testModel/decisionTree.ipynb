{
 "cells": [
  {
   "cell_type": "code",
   "execution_count": 1,
   "metadata": {},
   "outputs": [
    {
     "ename": "ModuleNotFoundError",
     "evalue": "No module named 'seaborn'",
     "output_type": "error",
     "traceback": [
      "\u001b[1;31m---------------------------------------------------------------------------\u001b[0m",
      "\u001b[1;31mModuleNotFoundError\u001b[0m                       Traceback (most recent call last)",
      "Cell \u001b[1;32mIn[1], line 3\u001b[0m\n\u001b[0;32m      1\u001b[0m \u001b[38;5;28;01mimport\u001b[39;00m \u001b[38;5;21;01mpandas\u001b[39;00m \u001b[38;5;28;01mas\u001b[39;00m \u001b[38;5;21;01mpd\u001b[39;00m\n\u001b[0;32m      2\u001b[0m \u001b[38;5;28;01mimport\u001b[39;00m \u001b[38;5;21;01mnumpy\u001b[39;00m \u001b[38;5;28;01mas\u001b[39;00m \u001b[38;5;21;01mnp\u001b[39;00m\n\u001b[1;32m----> 3\u001b[0m \u001b[38;5;28;01mimport\u001b[39;00m \u001b[38;5;21;01mseaborn\u001b[39;00m \u001b[38;5;28;01mas\u001b[39;00m \u001b[38;5;21;01msns\u001b[39;00m\n\u001b[0;32m      4\u001b[0m \u001b[38;5;28;01mimport\u001b[39;00m \u001b[38;5;21;01mmatplotlib\u001b[39;00m\u001b[38;5;21;01m.\u001b[39;00m\u001b[38;5;21;01mpyplot\u001b[39;00m \u001b[38;5;28;01mas\u001b[39;00m \u001b[38;5;21;01mplt\u001b[39;00m\n\u001b[0;32m      5\u001b[0m \u001b[38;5;28;01mfrom\u001b[39;00m \u001b[38;5;21;01msklearn\u001b[39;00m\u001b[38;5;21;01m.\u001b[39;00m\u001b[38;5;21;01mmodel_selection\u001b[39;00m \u001b[38;5;28;01mimport\u001b[39;00m train_test_split\n",
      "\u001b[1;31mModuleNotFoundError\u001b[0m: No module named 'seaborn'"
     ]
    }
   ],
   "source": [
    "import pandas as pd\n",
    "import numpy as np\n",
    "import seaborn as sns\n",
    "import matplotlib.pyplot as plt\n",
    "from sklearn.model_selection import train_test_split\n",
    "from sklearn.metrics import accuracy_score, classification_report\n",
    "import re\n",
    "import string\n",
    "import joblib"
   ]
  },
  {
   "cell_type": "code",
   "execution_count": 3,
   "metadata": {},
   "outputs": [
    {
     "data": {
      "text/html": [
       "<div>\n",
       "<style scoped>\n",
       "    .dataframe tbody tr th:only-of-type {\n",
       "        vertical-align: middle;\n",
       "    }\n",
       "\n",
       "    .dataframe tbody tr th {\n",
       "        vertical-align: top;\n",
       "    }\n",
       "\n",
       "    .dataframe thead th {\n",
       "        text-align: right;\n",
       "    }\n",
       "</style>\n",
       "<table border=\"1\" class=\"dataframe\">\n",
       "  <thead>\n",
       "    <tr style=\"text-align: right;\">\n",
       "      <th></th>\n",
       "      <th>rating_id</th>\n",
       "      <th>book_id</th>\n",
       "      <th>user_id</th>\n",
       "      <th>rating</th>\n",
       "      <th>age</th>\n",
       "      <th>gender</th>\n",
       "      <th>area</th>\n",
       "    </tr>\n",
       "  </thead>\n",
       "  <tbody>\n",
       "    <tr>\n",
       "      <th>0</th>\n",
       "      <td>0</td>\n",
       "      <td>248957</td>\n",
       "      <td>10527</td>\n",
       "      <td>5</td>\n",
       "      <td>39</td>\n",
       "      <td>Male</td>\n",
       "      <td>european</td>\n",
       "    </tr>\n",
       "    <tr>\n",
       "      <th>1</th>\n",
       "      <td>1</td>\n",
       "      <td>248957</td>\n",
       "      <td>6843</td>\n",
       "      <td>5</td>\n",
       "      <td>35</td>\n",
       "      <td>Male</td>\n",
       "      <td>south_asian</td>\n",
       "    </tr>\n",
       "    <tr>\n",
       "      <th>2</th>\n",
       "      <td>2</td>\n",
       "      <td>248957</td>\n",
       "      <td>3650</td>\n",
       "      <td>5</td>\n",
       "      <td>58</td>\n",
       "      <td>Male</td>\n",
       "      <td>celtic_english</td>\n",
       "    </tr>\n",
       "    <tr>\n",
       "      <th>3</th>\n",
       "      <td>3</td>\n",
       "      <td>248957</td>\n",
       "      <td>11592</td>\n",
       "      <td>5</td>\n",
       "      <td>51</td>\n",
       "      <td>Male</td>\n",
       "      <td>celtic_english</td>\n",
       "    </tr>\n",
       "    <tr>\n",
       "      <th>4</th>\n",
       "      <td>4</td>\n",
       "      <td>248957</td>\n",
       "      <td>1205</td>\n",
       "      <td>5</td>\n",
       "      <td>60</td>\n",
       "      <td>Female</td>\n",
       "      <td>celtic_english</td>\n",
       "    </tr>\n",
       "    <tr>\n",
       "      <th>...</th>\n",
       "      <td>...</td>\n",
       "      <td>...</td>\n",
       "      <td>...</td>\n",
       "      <td>...</td>\n",
       "      <td>...</td>\n",
       "      <td>...</td>\n",
       "      <td>...</td>\n",
       "    </tr>\n",
       "    <tr>\n",
       "      <th>200117</th>\n",
       "      <td>200117</td>\n",
       "      <td>250730</td>\n",
       "      <td>8627</td>\n",
       "      <td>5</td>\n",
       "      <td>39</td>\n",
       "      <td>Female</td>\n",
       "      <td>east_asian</td>\n",
       "    </tr>\n",
       "    <tr>\n",
       "      <th>200118</th>\n",
       "      <td>200118</td>\n",
       "      <td>250730</td>\n",
       "      <td>44</td>\n",
       "      <td>5</td>\n",
       "      <td>33</td>\n",
       "      <td>Male</td>\n",
       "      <td>east_asian</td>\n",
       "    </tr>\n",
       "    <tr>\n",
       "      <th>200119</th>\n",
       "      <td>200119</td>\n",
       "      <td>250730</td>\n",
       "      <td>9117</td>\n",
       "      <td>5</td>\n",
       "      <td>19</td>\n",
       "      <td>Female</td>\n",
       "      <td>east_asian</td>\n",
       "    </tr>\n",
       "    <tr>\n",
       "      <th>200120</th>\n",
       "      <td>200120</td>\n",
       "      <td>250730</td>\n",
       "      <td>10149</td>\n",
       "      <td>5</td>\n",
       "      <td>53</td>\n",
       "      <td>Female</td>\n",
       "      <td>celtic_english</td>\n",
       "    </tr>\n",
       "    <tr>\n",
       "      <th>200121</th>\n",
       "      <td>200121</td>\n",
       "      <td>250730</td>\n",
       "      <td>5601</td>\n",
       "      <td>5</td>\n",
       "      <td>31</td>\n",
       "      <td>Male</td>\n",
       "      <td>south_asian</td>\n",
       "    </tr>\n",
       "  </tbody>\n",
       "</table>\n",
       "<p>200122 rows × 7 columns</p>\n",
       "</div>"
      ],
      "text/plain": [
       "        rating_id  book_id  user_id  rating  age  gender            area\n",
       "0               0   248957    10527       5   39    Male        european\n",
       "1               1   248957     6843       5   35    Male     south_asian\n",
       "2               2   248957     3650       5   58    Male  celtic_english\n",
       "3               3   248957    11592       5   51    Male  celtic_english\n",
       "4               4   248957     1205       5   60  Female  celtic_english\n",
       "...           ...      ...      ...     ...  ...     ...             ...\n",
       "200117     200117   250730     8627       5   39  Female      east_asian\n",
       "200118     200118   250730       44       5   33    Male      east_asian\n",
       "200119     200119   250730     9117       5   19  Female      east_asian\n",
       "200120     200120   250730    10149       5   53  Female  celtic_english\n",
       "200121     200121   250730     5601       5   31    Male     south_asian\n",
       "\n",
       "[200122 rows x 7 columns]"
      ]
     },
     "execution_count": 3,
     "metadata": {},
     "output_type": "execute_result"
    }
   ],
   "source": [
    "df = pd.read_csv('E:/PBL6/ModelAI/data/book_user_ratings_include_user_data.csv')\n",
    "df"
   ]
  },
  {
   "cell_type": "code",
   "execution_count": 4,
   "metadata": {},
   "outputs": [],
   "source": [
    "# Sử dụng LabelEncoder từ thư viện scikit-learn\n",
    "from sklearn.preprocessing import LabelEncoder\n",
    "\n",
    "# Khởi tạo LabelEncoder\n",
    "label_encoder = LabelEncoder()\n",
    "\n",
    "# Mã hóa cột 'area' thành dạng số\n",
    "df['gender_encoded'] = label_encoder.fit_transform(df['gender'])\n",
    "df['area_encoded'] = label_encoder.fit_transform(df['area'])\n"
   ]
  },
  {
   "cell_type": "code",
   "execution_count": 5,
   "metadata": {},
   "outputs": [
    {
     "data": {
      "text/html": [
       "<div>\n",
       "<style scoped>\n",
       "    .dataframe tbody tr th:only-of-type {\n",
       "        vertical-align: middle;\n",
       "    }\n",
       "\n",
       "    .dataframe tbody tr th {\n",
       "        vertical-align: top;\n",
       "    }\n",
       "\n",
       "    .dataframe thead th {\n",
       "        text-align: right;\n",
       "    }\n",
       "</style>\n",
       "<table border=\"1\" class=\"dataframe\">\n",
       "  <thead>\n",
       "    <tr style=\"text-align: right;\">\n",
       "      <th></th>\n",
       "      <th>Unnamed: 0</th>\n",
       "      <th>id</th>\n",
       "      <th>title</th>\n",
       "      <th>description</th>\n",
       "      <th>book_cover</th>\n",
       "      <th>image_url</th>\n",
       "      <th>release_date</th>\n",
       "      <th>publisher</th>\n",
       "      <th>number_of_pages</th>\n",
       "      <th>price</th>\n",
       "      <th>authors</th>\n",
       "      <th>rating</th>\n",
       "      <th>number_of_ratings</th>\n",
       "      <th>number_of_reviews</th>\n",
       "    </tr>\n",
       "  </thead>\n",
       "  <tbody>\n",
       "    <tr>\n",
       "      <th>0</th>\n",
       "      <td>0</td>\n",
       "      <td>18599856</td>\n",
       "      <td>Where the Crawdads Sing</td>\n",
       "      <td>major motion picture 1 new york time bestselli...</td>\n",
       "      <td>Paperback</td>\n",
       "      <td>https://i.thriftbooks.com/api/imagehandler/m/4...</td>\n",
       "      <td>0001-01-01T00:00:00</td>\n",
       "      <td>Corsair</td>\n",
       "      <td>303</td>\n",
       "      <td>14.39</td>\n",
       "      <td>Delia Owens</td>\n",
       "      <td>3.897698</td>\n",
       "      <td>391</td>\n",
       "      <td>95</td>\n",
       "    </tr>\n",
       "    <tr>\n",
       "      <th>1</th>\n",
       "      <td>1</td>\n",
       "      <td>248957</td>\n",
       "      <td>Harry Potter and the Sorcerer's Stone</td>\n",
       "      <td>beloved first book harry potter series fully i...</td>\n",
       "      <td>Paperback</td>\n",
       "      <td>https://i.thriftbooks.com/api/imagehandler/m/9...</td>\n",
       "      <td>1998-09-01T00:00:00</td>\n",
       "      <td>Arthur A. Levine Books</td>\n",
       "      <td>320</td>\n",
       "      <td>4.29</td>\n",
       "      <td>J.K. Rowling</td>\n",
       "      <td>3.405858</td>\n",
       "      <td>239</td>\n",
       "      <td>38</td>\n",
       "    </tr>\n",
       "    <tr>\n",
       "      <th>2</th>\n",
       "      <td>2</td>\n",
       "      <td>247716</td>\n",
       "      <td>Nineteen Eighty-Four</td>\n",
       "      <td>written 75 year ago 1984 george orwell chillin...</td>\n",
       "      <td>Paperback</td>\n",
       "      <td>https://i.thriftbooks.com/api/imagehandler/m/0...</td>\n",
       "      <td>0001-01-01T00:00:00</td>\n",
       "      <td>NaN</td>\n",
       "      <td>0</td>\n",
       "      <td>187.89</td>\n",
       "      <td>George Orwell</td>\n",
       "      <td>3.695279</td>\n",
       "      <td>233</td>\n",
       "      <td>24</td>\n",
       "    </tr>\n",
       "    <tr>\n",
       "      <th>3</th>\n",
       "      <td>3</td>\n",
       "      <td>248147</td>\n",
       "      <td>To Kill a Mockingbird</td>\n",
       "      <td>voted america best loved novel pb great americ...</td>\n",
       "      <td>Mass Market Paperback</td>\n",
       "      <td>https://img.thriftbooks.com/api/images/m/8594c...</td>\n",
       "      <td>1988-10-11T00:00:00</td>\n",
       "      <td>Grand Central Publishing</td>\n",
       "      <td>288</td>\n",
       "      <td>4.19</td>\n",
       "      <td>Harper Lee</td>\n",
       "      <td>3.548387</td>\n",
       "      <td>186</td>\n",
       "      <td>35</td>\n",
       "    </tr>\n",
       "    <tr>\n",
       "      <th>4</th>\n",
       "      <td>4</td>\n",
       "      <td>246270</td>\n",
       "      <td>The Alchemist</td>\n",
       "      <td>international bestseller 80 million copy sold ...</td>\n",
       "      <td>Paperback</td>\n",
       "      <td>https://i.thriftbooks.com/api/imagehandler/m/1...</td>\n",
       "      <td>1993-04-25T00:00:00</td>\n",
       "      <td>HarperOne</td>\n",
       "      <td>197</td>\n",
       "      <td>5.49</td>\n",
       "      <td>Paulo Coelho</td>\n",
       "      <td>4.002950</td>\n",
       "      <td>339</td>\n",
       "      <td>27</td>\n",
       "    </tr>\n",
       "    <tr>\n",
       "      <th>...</th>\n",
       "      <td>...</td>\n",
       "      <td>...</td>\n",
       "      <td>...</td>\n",
       "      <td>...</td>\n",
       "      <td>...</td>\n",
       "      <td>...</td>\n",
       "      <td>...</td>\n",
       "      <td>...</td>\n",
       "      <td>...</td>\n",
       "      <td>...</td>\n",
       "      <td>...</td>\n",
       "      <td>...</td>\n",
       "      <td>...</td>\n",
       "      <td>...</td>\n",
       "    </tr>\n",
       "    <tr>\n",
       "      <th>10045</th>\n",
       "      <td>10045</td>\n",
       "      <td>13866451</td>\n",
       "      <td>The State of Affairs: Rethinking Infidelity</td>\n",
       "      <td>fresh look infidelity broadening focus havoc w...</td>\n",
       "      <td>Paperback</td>\n",
       "      <td>https://i.thriftbooks.com/api/imagehandler/m/B...</td>\n",
       "      <td>2018-10-09T00:00:00</td>\n",
       "      <td>Harper Paperbacks</td>\n",
       "      <td>352</td>\n",
       "      <td>10.49</td>\n",
       "      <td>Esther Perel</td>\n",
       "      <td>3.666667</td>\n",
       "      <td>3</td>\n",
       "      <td>1</td>\n",
       "    </tr>\n",
       "    <tr>\n",
       "      <th>10046</th>\n",
       "      <td>10046</td>\n",
       "      <td>245996</td>\n",
       "      <td>Your Four-Year-Old: Wild and Wonderful</td>\n",
       "      <td>four year old make lovable problem four year o...</td>\n",
       "      <td>Paperback</td>\n",
       "      <td>https://m.media-amazon.com/images/I/41XFP1mCqL...</td>\n",
       "      <td>1980-09-15T00:00:00</td>\n",
       "      <td>Delta</td>\n",
       "      <td>160</td>\n",
       "      <td>6.99</td>\n",
       "      <td>Louise Bates Ames,Frances L. Ilg</td>\n",
       "      <td>5.000000</td>\n",
       "      <td>5</td>\n",
       "      <td>5</td>\n",
       "    </tr>\n",
       "    <tr>\n",
       "      <th>10047</th>\n",
       "      <td>10047</td>\n",
       "      <td>376019</td>\n",
       "      <td>A Hunger for God: Desiring God through Fasting...</td>\n",
       "      <td>encourage read book asking great thing god. da...</td>\n",
       "      <td>Paperback</td>\n",
       "      <td>https://i.thriftbooks.com/api/imagehandler/m/4...</td>\n",
       "      <td>2013-04-30T00:00:00</td>\n",
       "      <td>Crossway</td>\n",
       "      <td>208</td>\n",
       "      <td>11.99</td>\n",
       "      <td>John Piper</td>\n",
       "      <td>4.083333</td>\n",
       "      <td>12</td>\n",
       "      <td>5</td>\n",
       "    </tr>\n",
       "    <tr>\n",
       "      <th>10048</th>\n",
       "      <td>10048</td>\n",
       "      <td>1000028213</td>\n",
       "      <td>Casablanca (1942)</td>\n",
       "      <td>NaN</td>\n",
       "      <td>DVD</td>\n",
       "      <td>https://img.thriftbooks.com/api/images/e/m/43B...</td>\n",
       "      <td>2002-03-07T00:00:00</td>\n",
       "      <td>Warner Home Video</td>\n",
       "      <td>0</td>\n",
       "      <td>4.19</td>\n",
       "      <td>NaN</td>\n",
       "      <td>2.888889</td>\n",
       "      <td>9</td>\n",
       "      <td>3</td>\n",
       "    </tr>\n",
       "    <tr>\n",
       "      <th>10049</th>\n",
       "      <td>10049</td>\n",
       "      <td>250730</td>\n",
       "      <td>Exploring Creation With Physical Science</td>\n",
       "      <td>course designed last science course student ta...</td>\n",
       "      <td>Hardcover</td>\n",
       "      <td>https://i.thriftbooks.com/api/imagehandler/m/C...</td>\n",
       "      <td>2000-01-01T00:00:00</td>\n",
       "      <td>Veritas Pr Inc</td>\n",
       "      <td>445</td>\n",
       "      <td>6.39</td>\n",
       "      <td>Jay L. Wile</td>\n",
       "      <td>4.125000</td>\n",
       "      <td>8</td>\n",
       "      <td>6</td>\n",
       "    </tr>\n",
       "  </tbody>\n",
       "</table>\n",
       "<p>10050 rows × 14 columns</p>\n",
       "</div>"
      ],
      "text/plain": [
       "       Unnamed: 0          id  \\\n",
       "0               0    18599856   \n",
       "1               1      248957   \n",
       "2               2      247716   \n",
       "3               3      248147   \n",
       "4               4      246270   \n",
       "...           ...         ...   \n",
       "10045       10045    13866451   \n",
       "10046       10046      245996   \n",
       "10047       10047      376019   \n",
       "10048       10048  1000028213   \n",
       "10049       10049      250730   \n",
       "\n",
       "                                                   title  \\\n",
       "0                                Where the Crawdads Sing   \n",
       "1                  Harry Potter and the Sorcerer's Stone   \n",
       "2                                   Nineteen Eighty-Four   \n",
       "3                                  To Kill a Mockingbird   \n",
       "4                                          The Alchemist   \n",
       "...                                                  ...   \n",
       "10045        The State of Affairs: Rethinking Infidelity   \n",
       "10046             Your Four-Year-Old: Wild and Wonderful   \n",
       "10047  A Hunger for God: Desiring God through Fasting...   \n",
       "10048                                  Casablanca (1942)   \n",
       "10049           Exploring Creation With Physical Science   \n",
       "\n",
       "                                             description  \\\n",
       "0      major motion picture 1 new york time bestselli...   \n",
       "1      beloved first book harry potter series fully i...   \n",
       "2      written 75 year ago 1984 george orwell chillin...   \n",
       "3      voted america best loved novel pb great americ...   \n",
       "4      international bestseller 80 million copy sold ...   \n",
       "...                                                  ...   \n",
       "10045  fresh look infidelity broadening focus havoc w...   \n",
       "10046  four year old make lovable problem four year o...   \n",
       "10047  encourage read book asking great thing god. da...   \n",
       "10048                                                NaN   \n",
       "10049  course designed last science course student ta...   \n",
       "\n",
       "                  book_cover  \\\n",
       "0                  Paperback   \n",
       "1                  Paperback   \n",
       "2                  Paperback   \n",
       "3      Mass Market Paperback   \n",
       "4                  Paperback   \n",
       "...                      ...   \n",
       "10045              Paperback   \n",
       "10046              Paperback   \n",
       "10047              Paperback   \n",
       "10048                    DVD   \n",
       "10049              Hardcover   \n",
       "\n",
       "                                               image_url         release_date  \\\n",
       "0      https://i.thriftbooks.com/api/imagehandler/m/4...  0001-01-01T00:00:00   \n",
       "1      https://i.thriftbooks.com/api/imagehandler/m/9...  1998-09-01T00:00:00   \n",
       "2      https://i.thriftbooks.com/api/imagehandler/m/0...  0001-01-01T00:00:00   \n",
       "3      https://img.thriftbooks.com/api/images/m/8594c...  1988-10-11T00:00:00   \n",
       "4      https://i.thriftbooks.com/api/imagehandler/m/1...  1993-04-25T00:00:00   \n",
       "...                                                  ...                  ...   \n",
       "10045  https://i.thriftbooks.com/api/imagehandler/m/B...  2018-10-09T00:00:00   \n",
       "10046  https://m.media-amazon.com/images/I/41XFP1mCqL...  1980-09-15T00:00:00   \n",
       "10047  https://i.thriftbooks.com/api/imagehandler/m/4...  2013-04-30T00:00:00   \n",
       "10048  https://img.thriftbooks.com/api/images/e/m/43B...  2002-03-07T00:00:00   \n",
       "10049  https://i.thriftbooks.com/api/imagehandler/m/C...  2000-01-01T00:00:00   \n",
       "\n",
       "                      publisher  number_of_pages   price  \\\n",
       "0                       Corsair              303   14.39   \n",
       "1        Arthur A. Levine Books              320    4.29   \n",
       "2                           NaN                0  187.89   \n",
       "3      Grand Central Publishing              288    4.19   \n",
       "4                     HarperOne              197    5.49   \n",
       "...                         ...              ...     ...   \n",
       "10045         Harper Paperbacks              352   10.49   \n",
       "10046                     Delta              160    6.99   \n",
       "10047                  Crossway              208   11.99   \n",
       "10048         Warner Home Video                0    4.19   \n",
       "10049            Veritas Pr Inc              445    6.39   \n",
       "\n",
       "                                authors    rating  number_of_ratings  \\\n",
       "0                           Delia Owens  3.897698                391   \n",
       "1                          J.K. Rowling  3.405858                239   \n",
       "2                         George Orwell  3.695279                233   \n",
       "3                            Harper Lee  3.548387                186   \n",
       "4                          Paulo Coelho  4.002950                339   \n",
       "...                                 ...       ...                ...   \n",
       "10045                      Esther Perel  3.666667                  3   \n",
       "10046  Louise Bates Ames,Frances L. Ilg  5.000000                  5   \n",
       "10047                        John Piper  4.083333                 12   \n",
       "10048                               NaN  2.888889                  9   \n",
       "10049                       Jay L. Wile  4.125000                  8   \n",
       "\n",
       "       number_of_reviews  \n",
       "0                     95  \n",
       "1                     38  \n",
       "2                     24  \n",
       "3                     35  \n",
       "4                     27  \n",
       "...                  ...  \n",
       "10045                  1  \n",
       "10046                  5  \n",
       "10047                  5  \n",
       "10048                  3  \n",
       "10049                  6  \n",
       "\n",
       "[10050 rows x 14 columns]"
      ]
     },
     "execution_count": 5,
     "metadata": {},
     "output_type": "execute_result"
    }
   ],
   "source": [
    "df_book = pd.read_csv('E:/Tài liệu môn học/Đồ án/pbl7/modelAI/ModelAI/data/thrift-preprocessed-summarize-problem.csv')\n",
    "df_book\n"
   ]
  },
  {
   "cell_type": "code",
   "execution_count": 6,
   "metadata": {},
   "outputs": [],
   "source": [
    "data_book = df_book.to_numpy()"
   ]
  },
  {
   "cell_type": "code",
   "execution_count": 7,
   "metadata": {},
   "outputs": [],
   "source": [
    "tfidf_matrix = joblib.load('E:/Tài liệu môn học/Đồ án/pbl7/modelAI/ModelAI/data/TF-IDF/tfidf_matrix_svd4000.pkl')\n"
   ]
  },
  {
   "cell_type": "code",
   "execution_count": 8,
   "metadata": {},
   "outputs": [],
   "source": [
    "X = df[['book_id',\t'user_id',\t'age',\t'gender_encoded',\t'area_encoded']]  # features\n",
    "y = df['rating']"
   ]
  },
  {
   "cell_type": "code",
   "execution_count": 9,
   "metadata": {},
   "outputs": [
    {
     "data": {
      "text/plain": [
       "array([[1, 248957, \"Harry Potter and the Sorcerer's Stone\",\n",
       "        'beloved first book harry potter series fully illustrated award winning artist jim kay.for first time j.k. rowling beloved harry potter book presented lavishly illustrated full color editions. award winning artist jim kay created 100 stunning illustration making deluxe format perfect gift child introduced series dedicated fans.harry potter never star quidditch team scoring point riding broom far ground. know spell never helped hatch dragon never worn cloak invisibility.all know miserable life dursleys horrible aunt uncle abominable son dudley great big swollen spoiled bully. harry room tiny closet foot stair birthday party eleven years.but change mysterious letter arrives owl messenger letter invitation incredible place harry anyone read find unforgettable.',\n",
       "        'Paperback',\n",
       "        'https://i.thriftbooks.com/api/imagehandler/m/96FD86FE12A253FA10F44EBA3CC6E56D4FE738B0.jpeg',\n",
       "        '1998-09-01T00:00:00', 'Arthur A. Levine Books', 320, 4.29,\n",
       "        'J.K. Rowling', 3.40585774058577, 239, 38],\n",
       "       [9051, 248957, \"Harry Potter and the Sorcerer's Stone\",\n",
       "        'beloved first book harry potter series fully illustrated award winning artist jim kay.for first time j.k. rowling beloved harry potter book presented lavishly illustrated full color editions. award winning artist jim kay created 100 stunning illustration making deluxe format perfect gift child introduced series dedicated fans.harry potter never star quidditch team scoring point riding broom far ground. know spell never helped hatch dragon never worn cloak invisibility.all know miserable life dursleys horrible aunt uncle abominable son dudley great big swollen spoiled bully. harry room tiny closet foot stair birthday party eleven years.but change mysterious letter arrives owl messenger letter invitation incredible place harry anyone read find unforgettable.',\n",
       "        'Paperback',\n",
       "        'https://i.thriftbooks.com/api/imagehandler/m/96FD86FE12A253FA10F44EBA3CC6E56D4FE738B0.jpeg',\n",
       "        '1998-09-01T00:00:00', 'Arthur A. Levine Books', 320, 4.29,\n",
       "        'J.K. Rowling', 3.40585774058577, 239, 38]], dtype=object)"
      ]
     },
     "execution_count": 9,
     "metadata": {},
     "output_type": "execute_result"
    }
   ],
   "source": [
    "X_data = X.to_numpy()\n",
    "row = df_book[df_book['id'] == 248957]\n",
    "row.to_numpy()"
   ]
  },
  {
   "cell_type": "code",
   "execution_count": 10,
   "metadata": {},
   "outputs": [],
   "source": [
    "from joblib import dump, load\n",
    "\n",
    "# Save reshaped_array to a file named \"data.joblib\"\n",
    "# dump(X_feature, 'tf_matrix_svd_feature.pkl')\n",
    "\n"
   ]
  },
  {
   "cell_type": "code",
   "execution_count": 11,
   "metadata": {},
   "outputs": [],
   "source": [
    "\n",
    "# Load data from the \"data.joblib\" file\n",
    "X_feature = load('E:\\Tài liệu môn học\\Đồ án\\pbl7\\modelAI\\ModelAI/training\\Predict_rating/tf_matrix_svd_feature.pkl')\n",
    "\n"
   ]
  },
  {
   "cell_type": "code",
   "execution_count": 12,
   "metadata": {},
   "outputs": [
    {
     "data": {
      "text/plain": [
       "list"
      ]
     },
     "execution_count": 12,
     "metadata": {},
     "output_type": "execute_result"
    }
   ],
   "source": [
    "type(X_feature)"
   ]
  },
  {
   "cell_type": "code",
   "execution_count": 13,
   "metadata": {},
   "outputs": [
    {
     "data": {
      "text/plain": [
       "array([ 0.09923577, -0.00465948,  0.01831609, ..., -0.00093083,\n",
       "       -0.00241601, -0.00201108])"
      ]
     },
     "execution_count": 13,
     "metadata": {},
     "output_type": "execute_result"
    }
   ],
   "source": [
    "subset = X_feature[0][5:4006]\n",
    "subset"
   ]
  },
  {
   "cell_type": "code",
   "execution_count": 14,
   "metadata": {},
   "outputs": [
    {
     "name": "stdout",
     "output_type": "stream",
     "text": [
      "[ 2.48957000e+05  1.05270000e+04  3.90000000e+01 ... -9.30831731e-04\n",
      " -2.41601369e-03 -2.01107928e-03] <class 'numpy.ndarray'>\n",
      "Giá trị 248957 được tìm thấy tại danh sách con có chỉ số: 0\n"
     ]
    }
   ],
   "source": [
    "# Danh sách của bạn có dạng [[], [], ...]\n",
    "\n",
    "# Giá trị bạn muốn tìm\n",
    "value_to_find = 248957\n",
    "\n",
    "# Tìm chỉ số của giá trị trong danh sách\n",
    "for index, sublist in enumerate(X_feature):\n",
    "    if value_to_find in sublist:\n",
    "        print(sublist,type(sublist))\n",
    "        print(\"Giá trị\", value_to_find, \"được tìm thấy tại danh sách con có chỉ số:\", index)\n",
    "        break\n",
    "else:\n",
    "    print(\"Giá trị\", value_to_find, \"không được tìm thấy trong danh sách.\")\n"
   ]
  },
  {
   "cell_type": "code",
   "execution_count": 15,
   "metadata": {},
   "outputs": [],
   "source": [
    "X_train, X_test, y_train, y_test = train_test_split(X_feature, y, test_size=0.2, random_state=42)\n"
   ]
  },
  {
   "cell_type": "code",
   "execution_count": 16,
   "metadata": {},
   "outputs": [],
   "source": [
    "# from sklearn.tree import DecisionTreeClassifier\n",
    "\n",
    "# DT = DecisionTreeClassifier()\n",
    "\n",
    "# DT.fit(X_train, y_train)\n",
    "# pred_dt = DT.predict(X_test)\n"
   ]
  },
  {
   "cell_type": "code",
   "execution_count": 17,
   "metadata": {},
   "outputs": [],
   "source": [
    "# dump(DT, 'DecisionTreeClassifier.pkl')\n"
   ]
  },
  {
   "cell_type": "code",
   "execution_count": 18,
   "metadata": {},
   "outputs": [
    {
     "data": {
      "text/plain": [
       "5786.0"
      ]
     },
     "execution_count": 18,
     "metadata": {},
     "output_type": "execute_result"
    }
   ],
   "source": [
    "X_train[0][1]"
   ]
  },
  {
   "cell_type": "code",
   "execution_count": 19,
   "metadata": {},
   "outputs": [],
   "source": [
    "DT = load('E:\\Tài liệu môn học\\Đồ án\\pbl7\\modelAI\\ModelAI/training\\Predict_rating\\DecisionTreeClassifier.pkl')"
   ]
  },
  {
   "cell_type": "code",
   "execution_count": 20,
   "metadata": {},
   "outputs": [],
   "source": [
    "pred_dt = DT.predict(X_test)\n"
   ]
  },
  {
   "cell_type": "code",
   "execution_count": 21,
   "metadata": {},
   "outputs": [
    {
     "name": "stdout",
     "output_type": "stream",
     "text": [
      "Mean Squared Error: 0.7043597751405372\n"
     ]
    }
   ],
   "source": [
    "from sklearn.metrics import mean_squared_error\n",
    "\n",
    "mseDT = mean_squared_error(y_test, pred_dt)\n",
    "print(\"Mean Squared Error:\", mseDT)"
   ]
  },
  {
   "cell_type": "code",
   "execution_count": 22,
   "metadata": {},
   "outputs": [
    {
     "name": "stdout",
     "output_type": "stream",
     "text": [
      "Root Mean Squared Error (RMSE): 0.8392614462374267\n"
     ]
    }
   ],
   "source": [
    "errors = y_test - pred_dt\n",
    "\n",
    "# Tính toán RMSE\n",
    "rmse = np.sqrt(np.mean(errors**2))\n",
    "print(\"Root Mean Squared Error (RMSE):\", rmse)"
   ]
  },
  {
   "cell_type": "code",
   "execution_count": 34,
   "metadata": {},
   "outputs": [],
   "source": [
    "#input X = df[['book_id',\t'user_id',\t'age',\t'gender_encoded',\t'area_encoded']]  # features + tf data\n",
    "\n",
    "def predict_rating(book_id,user_info):\n",
    "    input = []\n",
    "    input.append(book_id)\n",
    "    input.extend(user_info)\n",
    "    book_info = []\n",
    "    for index, rating in enumerate(X_feature):\n",
    "        if book_id in rating:\n",
    "            book_info = rating[5:4006]\n",
    "            break\n",
    "    input.extend(book_info)\n",
    "    # print(input,'input')\n",
    "    output = DT.predict([input])\n",
    "    print(output)\n",
    "\n"
   ]
  },
  {
   "cell_type": "code",
   "execution_count": 24,
   "metadata": {},
   "outputs": [],
   "source": [
    "\n",
    "# def predict_rating(book_id, user_info):\n",
    "#     input_data = []  # Use a different variable name to avoid conflict with the built-in function 'input'\n",
    "#     input_data.append(book_id)\n",
    "#     input_data.extend(user_info)\n",
    "#     book_info = []\n",
    "\n",
    "#     # Search for the book_id in X_feature\n",
    "#     for rating in X_feature:\n",
    "#         if book_id in rating:\n",
    "#             book_info = rating[5:4006]\n",
    "#             break\n",
    "\n",
    "#     input_data.extend(book_info)\n",
    "\n",
    "#     # Convert input_data to a NumPy array\n",
    "#     input_array = np.array(input_data)\n",
    "\n",
    "#     # Make predictions using the model\n",
    "#     output = DT.predict([input_array])\n",
    "\n",
    "#     print(\"Predicted rating:\", output[0])\n",
    "\n",
    "#     return output[0]\n"
   ]
  },
  {
   "cell_type": "code",
   "execution_count": 35,
   "metadata": {},
   "outputs": [
    {
     "name": "stdout",
     "output_type": "stream",
     "text": [
      "[5]\n"
     ]
    }
   ],
   "source": [
    "predict_rating(245980,[6843,35,1,9])\n"
   ]
  },
  {
   "cell_type": "code",
   "execution_count": 39,
   "metadata": {},
   "outputs": [
    {
     "name": "stdout",
     "output_type": "stream",
     "text": [
      "[2]\n"
     ]
    }
   ],
   "source": [
    "predict_rating(248207,[9268,43,1,2])\n"
   ]
  }
 ],
 "metadata": {
  "kernelspec": {
   "display_name": "Python 3",
   "language": "python",
   "name": "python3"
  },
  "language_info": {
   "codemirror_mode": {
    "name": "ipython",
    "version": 3
   },
   "file_extension": ".py",
   "mimetype": "text/x-python",
   "name": "python",
   "nbconvert_exporter": "python",
   "pygments_lexer": "ipython3",
   "version": "3.12.0"
  }
 },
 "nbformat": 4,
 "nbformat_minor": 2
}
