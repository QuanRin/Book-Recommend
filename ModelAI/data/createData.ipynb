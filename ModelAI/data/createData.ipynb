{
 "cells": [
  {
   "cell_type": "code",
   "execution_count": 2,
   "metadata": {},
   "outputs": [],
   "source": [
    "import pandas as pd\n",
    "import numpy as np\n",
    "# from sklearn.datasets import make_multilabel_classification\n",
    "\n"
   ]
  },
  {
   "cell_type": "code",
   "execution_count": 102,
   "metadata": {},
   "outputs": [
    {
     "name": "stderr",
     "output_type": "stream",
     "text": [
      "C:\\Users\\Admin\\AppData\\Local\\Packages\\PythonSoftwareFoundation.Python.3.9_qbz5n2kfra8p0\\LocalCache\\local-packages\\Python39\\site-packages\\IPython\\core\\interactiveshell.py:3460: DtypeWarning: Columns (0) have mixed types.Specify dtype option on import or set low_memory=False.\n",
      "  exec(code_obj, self.user_global_ns, self.user_ns)\n"
     ]
    },
    {
     "data": {
      "text/plain": [
       "(62706, 4)"
      ]
     },
     "execution_count": 102,
     "metadata": {},
     "output_type": "execute_result"
    }
   ],
   "source": [
    "df = pd.read_csv('LinkedIn Profile Data.csv',usecols=['c_id', 'age','gender','nationality'])\n",
    "df.shape\n"
   ]
  },
  {
   "cell_type": "code",
   "execution_count": 103,
   "metadata": {},
   "outputs": [
    {
     "data": {
      "text/plain": [
       "(38592, 4)"
      ]
     },
     "execution_count": 103,
     "metadata": {},
     "output_type": "execute_result"
    }
   ],
   "source": [
    "# Loại bỏ các hàng có giá trị \"#REF!\"\n",
    "df_cleaned = df[df['c_id'] != '#REF!']\n",
    "df_cleaned.shape"
   ]
  },
  {
   "cell_type": "code",
   "execution_count": 104,
   "metadata": {},
   "outputs": [
    {
     "data": {
      "text/plain": [
       "celtic_english    16050\n",
       "european           6421\n",
       "south_asian        5595\n",
       "hispanic           3837\n",
       "east_asian         3327\n",
       "muslim             1975\n",
       "nordic              816\n",
       "african             278\n",
       "greek               169\n",
       "jewish              124\n",
       "Name: nationality, dtype: int64"
      ]
     },
     "execution_count": 104,
     "metadata": {},
     "output_type": "execute_result"
    }
   ],
   "source": [
    "df_cleaned['nationality'].value_counts()"
   ]
  },
  {
   "cell_type": "code",
   "execution_count": 105,
   "metadata": {},
   "outputs": [
    {
     "data": {
      "text/plain": [
       "47    1578\n",
       "46    1520\n",
       "44    1510\n",
       "43    1499\n",
       "45    1432\n",
       "      ... \n",
       "11       7\n",
       "76       7\n",
       "4        4\n",
       "6        3\n",
       "10       3\n",
       "Name: age, Length: 71, dtype: int64"
      ]
     },
     "execution_count": 105,
     "metadata": {},
     "output_type": "execute_result"
    }
   ],
   "source": [
    "df_cleaned['age'].value_counts()"
   ]
  },
  {
   "cell_type": "code",
   "execution_count": 106,
   "metadata": {},
   "outputs": [
    {
     "data": {
      "text/html": [
       "<div>\n",
       "<style scoped>\n",
       "    .dataframe tbody tr th:only-of-type {\n",
       "        vertical-align: middle;\n",
       "    }\n",
       "\n",
       "    .dataframe tbody tr th {\n",
       "        vertical-align: top;\n",
       "    }\n",
       "\n",
       "    .dataframe thead th {\n",
       "        text-align: right;\n",
       "    }\n",
       "</style>\n",
       "<table border=\"1\" class=\"dataframe\">\n",
       "  <thead>\n",
       "    <tr style=\"text-align: right;\">\n",
       "      <th></th>\n",
       "      <th>c_id</th>\n",
       "      <th>age</th>\n",
       "      <th>gender</th>\n",
       "      <th>nationality</th>\n",
       "    </tr>\n",
       "  </thead>\n",
       "  <tbody>\n",
       "    <tr>\n",
       "      <th>0</th>\n",
       "      <td>1</td>\n",
       "      <td>37</td>\n",
       "      <td>Male</td>\n",
       "      <td>east_asian</td>\n",
       "    </tr>\n",
       "    <tr>\n",
       "      <th>1</th>\n",
       "      <td>2</td>\n",
       "      <td>37</td>\n",
       "      <td>Male</td>\n",
       "      <td>east_asian</td>\n",
       "    </tr>\n",
       "    <tr>\n",
       "      <th>2</th>\n",
       "      <td>3</td>\n",
       "      <td>37</td>\n",
       "      <td>Male</td>\n",
       "      <td>east_asian</td>\n",
       "    </tr>\n",
       "    <tr>\n",
       "      <th>3</th>\n",
       "      <td>4</td>\n",
       "      <td>37</td>\n",
       "      <td>Male</td>\n",
       "      <td>east_asian</td>\n",
       "    </tr>\n",
       "    <tr>\n",
       "      <th>4</th>\n",
       "      <td>5</td>\n",
       "      <td>37</td>\n",
       "      <td>Male</td>\n",
       "      <td>east_asian</td>\n",
       "    </tr>\n",
       "    <tr>\n",
       "      <th>...</th>\n",
       "      <td>...</td>\n",
       "      <td>...</td>\n",
       "      <td>...</td>\n",
       "      <td>...</td>\n",
       "    </tr>\n",
       "    <tr>\n",
       "      <th>38587</th>\n",
       "      <td>38588</td>\n",
       "      <td>56</td>\n",
       "      <td>Male</td>\n",
       "      <td>european</td>\n",
       "    </tr>\n",
       "    <tr>\n",
       "      <th>38588</th>\n",
       "      <td>38589</td>\n",
       "      <td>56</td>\n",
       "      <td>Male</td>\n",
       "      <td>european</td>\n",
       "    </tr>\n",
       "    <tr>\n",
       "      <th>38589</th>\n",
       "      <td>38590</td>\n",
       "      <td>45</td>\n",
       "      <td>Male</td>\n",
       "      <td>african</td>\n",
       "    </tr>\n",
       "    <tr>\n",
       "      <th>38590</th>\n",
       "      <td>38591</td>\n",
       "      <td>45</td>\n",
       "      <td>Male</td>\n",
       "      <td>african</td>\n",
       "    </tr>\n",
       "    <tr>\n",
       "      <th>38591</th>\n",
       "      <td>38592</td>\n",
       "      <td>45</td>\n",
       "      <td>Male</td>\n",
       "      <td>african</td>\n",
       "    </tr>\n",
       "  </tbody>\n",
       "</table>\n",
       "<p>38370 rows × 4 columns</p>\n",
       "</div>"
      ],
      "text/plain": [
       "        c_id  age gender nationality\n",
       "0          1   37   Male  east_asian\n",
       "1          2   37   Male  east_asian\n",
       "2          3   37   Male  east_asian\n",
       "3          4   37   Male  east_asian\n",
       "4          5   37   Male  east_asian\n",
       "...      ...  ...    ...         ...\n",
       "38587  38588   56   Male    european\n",
       "38588  38589   56   Male    european\n",
       "38589  38590   45   Male     african\n",
       "38590  38591   45   Male     african\n",
       "38591  38592   45   Male     african\n",
       "\n",
       "[38370 rows x 4 columns]"
      ]
     },
     "execution_count": 106,
     "metadata": {},
     "output_type": "execute_result"
    }
   ],
   "source": [
    "df_cleaned = df_cleaned.loc[df_cleaned['age'] >= 18]\n",
    "df_cleaned"
   ]
  },
  {
   "cell_type": "code",
   "execution_count": 107,
   "metadata": {},
   "outputs": [
    {
     "name": "stdout",
     "output_type": "stream",
     "text": [
      "Thông tin người dùng có id = 4:\n",
      "  c_id  age gender nationality\n",
      "3    4   37   Male  east_asian\n"
     ]
    }
   ],
   "source": [
    "# Tìm user có id = 4\n",
    "user_4 = df_cleaned.loc[df['c_id'] == 4]\n",
    "\n",
    "print(\"Thông tin người dùng có id = 4:\")\n",
    "\n",
    "print(user_4)"
   ]
  },
  {
   "cell_type": "code",
   "execution_count": 115,
   "metadata": {},
   "outputs": [],
   "source": [
    "user_new_data = df_cleaned[['age','gender','nationality']]\n",
    "# user_new_data.to_csv('user_data.csv', index=True)"
   ]
  },
  {
   "cell_type": "code",
   "execution_count": 9,
   "metadata": {},
   "outputs": [],
   "source": [
    "user_new_data = pd.read_csv('user_data.csv')\n",
    "# user_new_data.to_numpy()"
   ]
  },
  {
   "cell_type": "code",
   "execution_count": 10,
   "metadata": {},
   "outputs": [
    {
     "data": {
      "text/html": [
       "<div>\n",
       "<style scoped>\n",
       "    .dataframe tbody tr th:only-of-type {\n",
       "        vertical-align: middle;\n",
       "    }\n",
       "\n",
       "    .dataframe tbody tr th {\n",
       "        vertical-align: top;\n",
       "    }\n",
       "\n",
       "    .dataframe thead th {\n",
       "        text-align: right;\n",
       "    }\n",
       "</style>\n",
       "<table border=\"1\" class=\"dataframe\">\n",
       "  <thead>\n",
       "    <tr style=\"text-align: right;\">\n",
       "      <th></th>\n",
       "      <th>c_id</th>\n",
       "      <th>age</th>\n",
       "      <th>gender</th>\n",
       "      <th>nationality</th>\n",
       "    </tr>\n",
       "  </thead>\n",
       "  <tbody>\n",
       "    <tr>\n",
       "      <th>0</th>\n",
       "      <td>1</td>\n",
       "      <td>37</td>\n",
       "      <td>Male</td>\n",
       "      <td>east_asian</td>\n",
       "    </tr>\n",
       "    <tr>\n",
       "      <th>1</th>\n",
       "      <td>2</td>\n",
       "      <td>37</td>\n",
       "      <td>Male</td>\n",
       "      <td>east_asian</td>\n",
       "    </tr>\n",
       "    <tr>\n",
       "      <th>2</th>\n",
       "      <td>3</td>\n",
       "      <td>37</td>\n",
       "      <td>Male</td>\n",
       "      <td>east_asian</td>\n",
       "    </tr>\n",
       "    <tr>\n",
       "      <th>3</th>\n",
       "      <td>4</td>\n",
       "      <td>37</td>\n",
       "      <td>Male</td>\n",
       "      <td>east_asian</td>\n",
       "    </tr>\n",
       "    <tr>\n",
       "      <th>4</th>\n",
       "      <td>5</td>\n",
       "      <td>37</td>\n",
       "      <td>Male</td>\n",
       "      <td>east_asian</td>\n",
       "    </tr>\n",
       "    <tr>\n",
       "      <th>...</th>\n",
       "      <td>...</td>\n",
       "      <td>...</td>\n",
       "      <td>...</td>\n",
       "      <td>...</td>\n",
       "    </tr>\n",
       "    <tr>\n",
       "      <th>38365</th>\n",
       "      <td>38366</td>\n",
       "      <td>56</td>\n",
       "      <td>Male</td>\n",
       "      <td>european</td>\n",
       "    </tr>\n",
       "    <tr>\n",
       "      <th>38366</th>\n",
       "      <td>38367</td>\n",
       "      <td>56</td>\n",
       "      <td>Male</td>\n",
       "      <td>european</td>\n",
       "    </tr>\n",
       "    <tr>\n",
       "      <th>38367</th>\n",
       "      <td>38368</td>\n",
       "      <td>45</td>\n",
       "      <td>Male</td>\n",
       "      <td>african</td>\n",
       "    </tr>\n",
       "    <tr>\n",
       "      <th>38368</th>\n",
       "      <td>38369</td>\n",
       "      <td>45</td>\n",
       "      <td>Male</td>\n",
       "      <td>african</td>\n",
       "    </tr>\n",
       "    <tr>\n",
       "      <th>38369</th>\n",
       "      <td>38370</td>\n",
       "      <td>45</td>\n",
       "      <td>Male</td>\n",
       "      <td>african</td>\n",
       "    </tr>\n",
       "  </tbody>\n",
       "</table>\n",
       "<p>38370 rows × 4 columns</p>\n",
       "</div>"
      ],
      "text/plain": [
       "        c_id  age gender nationality\n",
       "0          1   37   Male  east_asian\n",
       "1          2   37   Male  east_asian\n",
       "2          3   37   Male  east_asian\n",
       "3          4   37   Male  east_asian\n",
       "4          5   37   Male  east_asian\n",
       "...      ...  ...    ...         ...\n",
       "38365  38366   56   Male    european\n",
       "38366  38367   56   Male    european\n",
       "38367  38368   45   Male     african\n",
       "38368  38369   45   Male     african\n",
       "38369  38370   45   Male     african\n",
       "\n",
       "[38370 rows x 4 columns]"
      ]
     },
     "execution_count": 10,
     "metadata": {},
     "output_type": "execute_result"
    }
   ],
   "source": [
    "user_new_data"
   ]
  },
  {
   "cell_type": "markdown",
   "metadata": {},
   "source": []
  },
  {
   "cell_type": "code",
   "execution_count": 11,
   "metadata": {},
   "outputs": [],
   "source": [
    "\n",
    "user_new_data['c_id'] = user_new_data['c_id'].astype(int)\n",
    "\n",
    "num_user = user_new_data['c_id'].max()"
   ]
  },
  {
   "cell_type": "code",
   "execution_count": 12,
   "metadata": {},
   "outputs": [],
   "source": [
    "df_book = pd.read_csv('datathriftle-book.csv')\n"
   ]
  },
  {
   "cell_type": "code",
   "execution_count": 13,
   "metadata": {},
   "outputs": [],
   "source": [
    "data = df_book.to_numpy()\n"
   ]
  },
  {
   "cell_type": "code",
   "execution_count": 14,
   "metadata": {},
   "outputs": [],
   "source": [
    "data_rating = []\n",
    "for i in range(len(data)):\n",
    "    book = data[i]\n",
    "    num_rating = book[11]\n",
    "    num_users = np.random.randint(1, num_user, size=1)\n",
    "    target_avg_rating = book[12]\n",
    "    ratings = np.random.normal(loc=target_avg_rating, scale=1.0, size=num_rating)\n",
    "    ratings = np.clip(ratings, 1, 5)  # Ensure ratings are within 1-5 range\n",
    "    ratings = ratings.astype(int)\n",
    "    # ratings = np.random.randint(1, 6, size=num_rating)\n",
    "    user_ids = np.random.randint(1,num_users+1, size=num_rating)\n",
    "    book_id = book[0]\n",
    "    # print(num_rating)\n",
    "    for j in range(num_rating):\n",
    "        user_id = user_ids[j]\n",
    "        # print('uid',user_id)\n",
    "        user = user_new_data.loc[user_new_data['c_id'] == user_id].to_numpy()\n",
    "        data_rating.append({'book_id': book[0], 'user_id': user_id, 'rating': ratings[j], 'age':user[0][1],'gender':user[0][2],'area':user[0][3]}) \n",
    "    \n"
   ]
  },
  {
   "cell_type": "code",
   "execution_count": 15,
   "metadata": {},
   "outputs": [
    {
     "data": {
      "text/plain": [
       "200122"
      ]
     },
     "execution_count": 15,
     "metadata": {},
     "output_type": "execute_result"
    }
   ],
   "source": [
    "len(data_rating)"
   ]
  },
  {
   "cell_type": "code",
   "execution_count": 16,
   "metadata": {},
   "outputs": [],
   "source": [
    "data_user_rating = pd.DataFrame(data_rating)\n",
    "data_user_rating.to_csv('book_user_ratings.csv', index=True)"
   ]
  },
  {
   "cell_type": "code",
   "execution_count": 17,
   "metadata": {},
   "outputs": [
    {
     "data": {
      "text/plain": [
       "3134922     688\n",
       "246270      678\n",
       "13536370    670\n",
       "246855      650\n",
       "248655      648\n",
       "           ... \n",
       "256131        1\n",
       "13867743      1\n",
       "8970204       1\n",
       "247301        1\n",
       "22577825      1\n",
       "Name: book_id, Length: 9447, dtype: int64"
      ]
     },
     "execution_count": 17,
     "metadata": {},
     "output_type": "execute_result"
    }
   ],
   "source": [
    "data_user_rating['book_id'].value_counts()"
   ]
  },
  {
   "cell_type": "code",
   "execution_count": 18,
   "metadata": {},
   "outputs": [
    {
     "data": {
      "text/plain": [
       "1        81\n",
       "4        64\n",
       "2        58\n",
       "3        57\n",
       "6        53\n",
       "         ..\n",
       "35789     1\n",
       "22955     1\n",
       "33273     1\n",
       "31750     1\n",
       "17681     1\n",
       "Name: user_id, Length: 32447, dtype: int64"
      ]
     },
     "execution_count": 18,
     "metadata": {},
     "output_type": "execute_result"
    }
   ],
   "source": [
    "data_user_rating['user_id'].value_counts()"
   ]
  },
  {
   "cell_type": "code",
   "execution_count": 19,
   "metadata": {},
   "outputs": [
    {
     "data": {
      "text/plain": [
       "5    111664\n",
       "1     34615\n",
       "4     23283\n",
       "3     17278\n",
       "2     13282\n",
       "Name: rating, dtype: int64"
      ]
     },
     "execution_count": 19,
     "metadata": {},
     "output_type": "execute_result"
    }
   ],
   "source": [
    "data_user_rating['rating'].value_counts()"
   ]
  },
  {
   "cell_type": "code",
   "execution_count": 20,
   "metadata": {},
   "outputs": [],
   "source": [
    "data_user_rating.to_csv('book_user_ratings.csv', index=True)\n"
   ]
  },
  {
   "cell_type": "code",
   "execution_count": 21,
   "metadata": {},
   "outputs": [],
   "source": []
  }
 ],
 "metadata": {
  "kernelspec": {
   "display_name": "Python 3",
   "language": "python",
   "name": "python3"
  },
  "language_info": {
   "codemirror_mode": {
    "name": "ipython",
    "version": 3
   },
   "file_extension": ".py",
   "mimetype": "text/x-python",
   "name": "python",
   "nbconvert_exporter": "python",
   "pygments_lexer": "ipython3",
   "version": "3.9.13"
  }
 },
 "nbformat": 4,
 "nbformat_minor": 2
}
